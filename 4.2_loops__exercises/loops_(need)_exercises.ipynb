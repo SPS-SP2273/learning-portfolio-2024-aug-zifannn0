{
 "cells": [
  {
   "attachments": {},
   "cell_type": "markdown",
   "id": "123456",
   "metadata": {},
   "source": [
    "<div style=\"text-align:left;font-size:2em\"><span style=\"font-weight:bolder;font-size:1.25em\">SP2273 | Learning Portfolio</span><br><br><span style=\"font-weight:bold;color:darkred\">Loops (Need) Exercises</span></div>"
   ]
  },
  {
   "cell_type": "code",
   "execution_count": 16,
   "id": "8735fed4-60be-4697-87f2-3667000048bc",
   "metadata": {},
   "outputs": [
    {
     "name": "stdout",
     "output_type": "stream",
     "text": [
      "0°C=32.0°F\n",
      "5°C=41.0°F\n",
      "10°C=50.0°F\n",
      "15°C=59.0°F\n",
      "20°C=68.0°F\n",
      "25°C=77.0°F\n",
      "30°C=86.0°F\n",
      "35°C=95.0°F\n",
      "40°C=104.0°F\n",
      "45°C=113.0°F\n",
      "50°C=122.0°F\n"
     ]
    }
   ],
   "source": [
    "#Exercise 1\n",
    "\n",
    "temperatures_celsius = [\n",
    "    0, 5, 10, 15, 20, 25,\n",
    "    30, 35, 40, 45, 50\n",
    "]\n",
    "for temperatures in temperatures_celsius:\n",
    "    temperatures_fahrenheit=(temperatures*9/5)+32\n",
    "    print (f\"{temperatures}°C={temperatures_fahrenheit}°F\")"
   ]
  },
  {
   "cell_type": "code",
   "execution_count": 2,
   "id": "741430a1-7b91-4107-b173-3785d850a2e1",
   "metadata": {},
   "outputs": [
    {
     "name": "stdout",
     "output_type": "stream",
     "text": [
      "1 :\t1\t2\t3\t4\t5\t\n",
      "\n",
      "2 :\t2\t4\t6\t8\t10\t\n",
      "\n",
      "3 :\t3\t6\t9\t12\t15\t\n",
      "\n",
      "4 :\t4\t8\t12\t16\t20\t\n",
      "\n",
      "5 :\t5\t10\t15\t20\t25\t\n",
      "\n"
     ]
    }
   ],
   "source": [
    "#Exercise 2\n",
    "\n",
    "for i in range(1,6):\n",
    "    print(f\"{i} :\", end='\\t')\n",
    "    for k in range(1,6):\n",
    "        print(f\"{i*k}\", end='\\t')\n",
    "    print('\\n')\n",
    "    "
   ]
  },
  {
   "cell_type": "code",
   "execution_count": 4,
   "id": "1f0e1df5-9e7f-4e94-b5fe-9a1dc20b358a",
   "metadata": {},
   "outputs": [
    {
     "name": "stdout",
     "output_type": "stream",
     "text": [
      "Experiment 1: No. of Heads = 7\n",
      "Experiment 2: No. of Heads = 3\n",
      "Experiment 3: No. of Heads = 4\n",
      "Experiment 4: No. of Heads = 7\n",
      "Experiment 5: No. of Heads = 3\n",
      "Experiment 6: No. of Heads = 6\n",
      "Experiment 7: No. of Heads = 5\n",
      "Experiment 8: No. of Heads = 3\n",
      "Experiment 9: No. of Heads = 3\n",
      "Experiment 10: No. of Heads = 4\n"
     ]
    }
   ],
   "source": [
    "#Exercise 3\n",
    "\n",
    "import numpy as np\n",
    "\n",
    "for i in range(1,11):\n",
    "    coin = np.random.rand(10)\n",
    "    heads = np.sum(coin > 0.5)\n",
    "    print(f\"Experiment {i}: No. of Heads = {heads}\")\n"
   ]
  }
 ],
 "metadata": {
  "kernelspec": {
   "display_name": "Python 3 (ipykernel)",
   "language": "python",
   "name": "python3"
  },
  "language_info": {
   "codemirror_mode": {
    "name": "ipython",
    "version": 3
   },
   "file_extension": ".py",
   "mimetype": "text/x-python",
   "name": "python",
   "nbconvert_exporter": "python",
   "pygments_lexer": "ipython3",
   "version": "3.12.2"
  },
  "toc": {
   "base_numbering": 1,
   "nav_menu": {},
   "number_sections": true,
   "sideBar": true,
   "skip_h1_title": false,
   "title_cell": "Table of Contents",
   "title_sidebar": "Contents",
   "toc_cell": false,
   "toc_position": {},
   "toc_section_display": true,
   "toc_window_display": false
  },
  "vscode": {
   "interpreter": {
    "hash": "31f2aee4e71d21fbe5cf8b01ff0e069b9275f58929596ceb00d14d90e3e16cd6"
   }
  }
 },
 "nbformat": 4,
 "nbformat_minor": 5
}

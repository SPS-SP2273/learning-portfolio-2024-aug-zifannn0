{
 "cells": [
  {
   "attachments": {},
   "cell_type": "markdown",
   "id": "123456",
   "metadata": {},
   "source": [
    "<div style=\"text-align:left;font-size:2em\"><span style=\"font-weight:bolder;font-size:1.25em\">SP2273 | Learning Portfolio</span><br><br><span style=\"font-weight:bold;color:darkred\">Functions (Need) Exercises</span></div>"
   ]
  },
  {
   "cell_type": "markdown",
   "id": "3c91a87b-b37d-41a8-be95-7fcb254628f4",
   "metadata": {},
   "source": [
    "**Exercise 1**\n",
    "\n",
    "If the name is 'Batman', the code will execute the if condition. If the name is not 'Batman', the code will not execute (so skip) the if condition and execute the next line which is return f'Hello {name}!' instead.\n",
    "\n",
    "(do i address this question hahaha)"
   ]
  },
  {
   "cell_type": "code",
   "execution_count": 1,
   "id": "45b4fed6-db8c-4549-89ed-1572cf3d09ff",
   "metadata": {},
   "outputs": [
    {
     "name": "stdout",
     "output_type": "stream",
     "text": [
      "your BMI is 21.60, you are normal weight.\n"
     ]
    }
   ],
   "source": [
    "#Exercise 2\n",
    "def calculate_bmi(weight,height):\n",
    "    BMI = weight / (height ** 2)\n",
    "    if BMI < 18.5:\n",
    "        return f\"your BMI is {BMI:.2f}, you are underweight.\"\n",
    "    elif 18.5 <= BMI <25:\n",
    "        return f\"your BMI is {BMI:.2f}, you are normal weight.\"\n",
    "    elif 25 <= BMI < 30:\n",
    "        return f\"your BMI is {BMI:.2f}, you are overweight.\"\n",
    "    elif BMI >= 30:\n",
    "        return f\"your BMI is {BMI:.2f}, you are overweight.\"\n",
    "\n",
    "person_A = calculate_bmi(70,1.8)\n",
    "print(person_A)"
   ]
  },
  {
   "cell_type": "code",
   "execution_count": 48,
   "id": "63eb8804-8ac4-4ec4-87a0-bdc6b5bf4b22",
   "metadata": {},
   "outputs": [
    {
     "name": "stdout",
     "output_type": "stream",
     "text": [
      "factorial is not defined for -3\n"
     ]
    }
   ],
   "source": [
    "def factorial(n):\n",
    "    if n > 0:\n",
    "        result = 1\n",
    "        for i in range (1,n+1):\n",
    "            result *= i\n",
    "        return result\n",
    "    elif n == 0:\n",
    "        return 1\n",
    "    elif n < 0:\n",
    "        return f\"factorial is not defined for {n}\"\n",
    "\n",
    "input_number = factorial(-3)\n",
    "print(input_number)"
   ]
  }
 ],
 "metadata": {
  "kernelspec": {
   "display_name": "Python 3 (ipykernel)",
   "language": "python",
   "name": "python3"
  },
  "language_info": {
   "codemirror_mode": {
    "name": "ipython",
    "version": 3
   },
   "file_extension": ".py",
   "mimetype": "text/x-python",
   "name": "python",
   "nbconvert_exporter": "python",
   "pygments_lexer": "ipython3",
   "version": "3.12.2"
  },
  "toc": {
   "base_numbering": 1,
   "nav_menu": {},
   "number_sections": true,
   "sideBar": true,
   "skip_h1_title": false,
   "title_cell": "Table of Contents",
   "title_sidebar": "Contents",
   "toc_cell": false,
   "toc_position": {},
   "toc_section_display": true,
   "toc_window_display": false
  },
  "vscode": {
   "interpreter": {
    "hash": "31f2aee4e71d21fbe5cf8b01ff0e069b9275f58929596ceb00d14d90e3e16cd6"
   }
  }
 },
 "nbformat": 4,
 "nbformat_minor": 5
}

{
 "cells": [
  {
   "attachments": {},
   "cell_type": "markdown",
   "id": "123456",
   "metadata": {},
   "source": [
    "<div style=\"text-align:left;font-size:2em\"><span style=\"font-weight:bolder;font-size:1.25em\">SP2273 | Learning Portfolio</span><br><br><span style=\"font-weight:bold;color:darkred\">Functions (Good) Exercises</span></div>"
   ]
  },
  {
   "cell_type": "code",
   "execution_count": 33,
   "id": "c7ef033c-7a77-4152-b1a6-971e3465d2be",
   "metadata": {},
   "outputs": [
    {
     "name": "stdout",
     "output_type": "stream",
     "text": [
      "32.0\n"
     ]
    }
   ],
   "source": [
    "#exercise_1\n",
    "\n",
    "def convert_celsius(temperature_celsius,target_scale = 'Fahrenheit'):\n",
    "    if  target_scale == 'Kelvin':\n",
    "        return temperature_celsius + 273\n",
    "    else:\n",
    "        return temperature_celsius * 9/5 +32\n",
    "\n",
    "\n",
    "print(convert_celsius(0))\n",
    "\n",
    "    "
   ]
  },
  {
   "cell_type": "code",
   "execution_count": 38,
   "id": "54f862ea-8fa4-44aa-9c47-32f470a75ec1",
   "metadata": {},
   "outputs": [
    {
     "name": "stdout",
     "output_type": "stream",
     "text": [
      "273\n"
     ]
    }
   ],
   "source": [
    "#exercise_2\n",
    "def convert_fahrenheit(temperature_fahrenheit,target_scale = 'Celsius'):\n",
    "    if target_scale == 'Kelvin':\n",
    "        return (temperature_fahrenheit-32)*5/9+273\n",
    "    else:\n",
    "        return (temperature_fahrenheit-32)*5/9\n",
    "\n",
    "print(convert_celsius(0,'Kelvin'))"
   ]
  },
  {
   "cell_type": "code",
   "execution_count": 15,
   "id": "2f0eeb57-467e-46d9-8406-31f69a27c98d",
   "metadata": {},
   "outputs": [
    {
     "data": {
      "text/plain": [
       "'Hello Super Man!'"
      ]
     },
     "execution_count": 15,
     "metadata": {},
     "output_type": "execute_result"
    }
   ],
   "source": [
    "#exercise_3\n",
    "def convert_temperature(temperature,source_scale,target_scale):\n",
    "    for  source_scale == 'Celsius':\n",
    "        if  target_scale == 'Kelvin':\n",
    "            return target_scale = temperature + 273\n",
    "        else:\n",
    "            return target_scale = temperature * 9/5 +32\n",
    "    for  source_scale == 'Fahrenheit':\n",
    "       if target_scale == 'Kelvin':\n",
    "            return target_scale = (temperature_fahrenheit-32)*5/9+273\n",
    "        else:\n",
    "            return target_scale = (temperature_fahrenheit-32)*5/9\n",
    "    for source_scale == 'Kelvin':\n",
    "        if target_scale == 'Celsius':\n",
    "            return "
   ]
  },
  {
   "cell_type": "code",
   "execution_count": 17,
   "id": "b9d71723-af1b-455c-a28e-d9b20ae560f9",
   "metadata": {},
   "outputs": [
    {
     "name": "stdout",
     "output_type": "stream",
     "text": [
      "Help on function side_by_side in module __main__:\n",
      "\n",
      "side_by_side(a, b, c=42)\n",
      "    A test function to demonstrate how\n",
      "    positional, keyword and default arguments\n",
      "    work.\n",
      "\n"
     ]
    }
   ],
   "source": []
  }
 ],
 "metadata": {
  "kernelspec": {
   "display_name": "Python 3 (ipykernel)",
   "language": "python",
   "name": "python3"
  },
  "language_info": {
   "codemirror_mode": {
    "name": "ipython",
    "version": 3
   },
   "file_extension": ".py",
   "mimetype": "text/x-python",
   "name": "python",
   "nbconvert_exporter": "python",
   "pygments_lexer": "ipython3",
   "version": "3.12.2"
  },
  "toc": {
   "base_numbering": 1,
   "nav_menu": {},
   "number_sections": true,
   "sideBar": true,
   "skip_h1_title": false,
   "title_cell": "Table of Contents",
   "title_sidebar": "Contents",
   "toc_cell": false,
   "toc_position": {},
   "toc_section_display": true,
   "toc_window_display": false
  },
  "vscode": {
   "interpreter": {
    "hash": "31f2aee4e71d21fbe5cf8b01ff0e069b9275f58929596ceb00d14d90e3e16cd6"
   }
  }
 },
 "nbformat": 4,
 "nbformat_minor": 5
}

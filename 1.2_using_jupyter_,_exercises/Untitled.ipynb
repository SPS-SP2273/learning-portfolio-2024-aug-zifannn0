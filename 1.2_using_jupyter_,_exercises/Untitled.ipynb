{
 "cells": [
  {
   "cell_type": "markdown",
   "id": "0555468c-105e-4c30-a033-77ed2ff60201",
   "metadata": {},
   "source": [
    "$\\mu=\\dfrac{1}{n}\\sum_{i=1}^{n}x_i$\n",
    "\n",
    "$\\sigma=\\sqrt{\\dfrac{1}{n}\\sum_{i=1}^{n}(x_i-\\mu)^2}$\n",
    "\n",
    "$r=\\dfrac{\\sum_{i=1}^{n}(x_i-\\mu_X)(y_i-\\mu_Y)}{\\sqrt{\\sum_{i=1}^{n}(x_i-\\mu_X)^2 \\sum_{i=1}^{n}(y_i-\\mu_Y)^2}}$"
   ]
  }
 ],
 "metadata": {
  "kernelspec": {
   "display_name": "Python 3 (ipykernel)",
   "language": "python",
   "name": "python3"
  },
  "language_info": {
   "codemirror_mode": {
    "name": "ipython",
    "version": 3
   },
   "file_extension": ".py",
   "mimetype": "text/x-python",
   "name": "python",
   "nbconvert_exporter": "python",
   "pygments_lexer": "ipython3",
   "version": "3.12.2"
  }
 },
 "nbformat": 4,
 "nbformat_minor": 5
}

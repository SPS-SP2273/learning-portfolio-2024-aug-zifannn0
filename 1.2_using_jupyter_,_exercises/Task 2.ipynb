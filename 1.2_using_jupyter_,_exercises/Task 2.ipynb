{
 "cells": [
  {
   "cell_type": "markdown",
   "id": "2d125622-83d6-49a2-8ba4-551207b7e3d9",
   "metadata": {},
   "source": [
    "1. Git **repository** serves as a folder to save my codes where all the changes will be recorded, so I can look at the history of my codes.\n",
    "2. Git keeps track of *evolution* in the files in our repository.\n",
    "3. **Commit** is the function to save changes locally.\n",
    "4. **Push** is to upload the changes to the origin.\n",
    "5. **Pull** is to save the changes from the origin.\n",
    "6. **GitHub** is the server where I can share repository with other people while **GitHub Desktop** saves the local copy of the repository in my computer."
   ]
  }
 ],
 "metadata": {
  "kernelspec": {
   "display_name": "Python 3 (ipykernel)",
   "language": "python",
   "name": "python3"
  },
  "language_info": {
   "codemirror_mode": {
    "name": "ipython",
    "version": 3
   },
   "file_extension": ".py",
   "mimetype": "text/x-python",
   "name": "python",
   "nbconvert_exporter": "python",
   "pygments_lexer": "ipython3",
   "version": "3.12.2"
  }
 },
 "nbformat": 4,
 "nbformat_minor": 5
}

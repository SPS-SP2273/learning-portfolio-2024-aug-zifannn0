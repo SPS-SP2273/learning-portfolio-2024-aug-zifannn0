{
 "cells": [
  {
   "attachments": {},
   "cell_type": "markdown",
   "id": "123456",
   "metadata": {},
   "source": [
    "<div style=\"text-align:left;font-size:2em\"><span style=\"font-weight:bolder;font-size:1.25em\">SP2273 | Learning Portfolio</span><br><br><span style=\"font-weight:bold;color:darkred\">Using Jupyter (Need), Exercises</span></div>"
   ]
  },
  {
   "attachments": {},
   "cell_type": "markdown",
   "id": "682641ac",
   "metadata": {},
   "source": [
    "## 1 Quadratic Equations"
   ]
  },
  {
   "attachments": {},
   "cell_type": "markdown",
   "id": "549c4387",
   "metadata": {},
   "source": [
    "### Introduction"
   ]
  },
  {
   "cell_type": "markdown",
   "id": "0bf512fc-e583-4476-9c28-6eadb6dce518",
   "metadata": {},
   "source": [
    "\n",
    "![](https://upload.wikimedia.org/wikipedia/commons/thumb/f/f8/Polynomialdeg2.svg/1280px-Polynomialdeg2.svg.png)\n",
    "\n",
    "*(Image from the [Wikipedia page on Quadratic equations)](https://en.wikipedia.org/wiki/Quadratic_equation)*\n",
    "\n",
    "The general form of a quadratic equation is:\n",
    "$$ax^2+bx+c=0$$\n",
    "\n"
   ]
  },
  {
   "attachments": {},
   "cell_type": "markdown",
   "id": "4754b6ac",
   "metadata": {},
   "source": [
    "### Solutions"
   ]
  },
  {
   "cell_type": "markdown",
   "id": "8765b6c0-c3ed-4067-95fd-edc6471ad769",
   "metadata": {},
   "source": [
    "Provided $ a\\ne 0 $, we can use an elementary algebraic method called [completing the square](https://en.wikipedia.org/wiki/Completing_the_square) to show that a quadratic equation has the following solution:\n",
    "$$\n",
    "x = \\dfrac{-b\\pm\\sqrt{b^2-4ac}}{2a}\n",
    "$$\n"
   ]
  },
  {
   "attachments": {},
   "cell_type": "markdown",
   "id": "72d34a5f",
   "metadata": {},
   "source": [
    "### Discriminant"
   ]
  },
  {
   "cell_type": "markdown",
   "id": "0c0171d9-ba3f-4564-970b-53c05865570f",
   "metadata": {},
   "source": [
    "The quantity $\\Delta = b^2-4ac$ is called the **discriminant** of the equation and decides the nature of its solutions. The table below shows the various possibilities.\n",
    "\n",
    "| **Discriminant**       | **Roots**                                |   |   |   |\n",
    "|------------------------|------------------------------------------|---|---|---|\n",
    "| $\\Delta=b^2-4ac=0$     | A single solution of $\\dfrac {-b}{(2a)}$ |   |   |   |\n",
    "| $\\Delta=b^2-4ac \\gt 0$ | Two distinct solutions                   |   |   |   |\n",
    "| $\\Delta=b^2-4ac \\lt 0$ | No real solutions; both are complex.     |   |   |   |\n",
    "\n",
    "\n"
   ]
  },
  {
   "cell_type": "markdown",
   "id": "85fa7a14-838d-4d69-8a03-d491abaf016b",
   "metadata": {},
   "source": [
    "**Task 2**\n",
    "1. Git **repository** serves as a folder to save my codes where all the changes will be recorded, so I can look at the history of my codes.\n",
    "2. Git keeps track of *evolution* in the files in our repository.\n",
    "3. **Commit** is the function to save changes locally.\n",
    "4. **Push** is to upload the changes to the origin.\n",
    "5. **Pull** is to save the changes from the origin.\n",
    "6. **GitHub** is the server where I can share repository with other people while **GitHub Desktop** saves the local copy of the repository in my computer."
   ]
  },
  {
   "cell_type": "markdown",
   "id": "4b37181b-e37d-4275-91db-d06199f58e5a",
   "metadata": {},
   "source": [
    "**Task 3**\n",
    "\n",
    "$\\mu=\\dfrac{1}{n}\\sum_{i=1}^{n}x_i$\n",
    "\n",
    "$\\sigma=\\sqrt{\\dfrac{1}{n}\\sum_{i=1}^{n}(x_i-\\mu)^2}$\n",
    "\n",
    "$r=\\dfrac{\\sum_{i=1}^{n}(x_i-\\mu_X)(y_i-\\mu_Y)}{\\sqrt{\\sum_{i=1}^{n}(x_i-\\mu_X)^2 \\sum_{i=1}^{n}(y_i-\\mu_Y)^2}}$"
   ]
  }
 ],
 "metadata": {
  "kernelspec": {
   "display_name": "Python 3 (ipykernel)",
   "language": "python",
   "name": "python3"
  },
  "language_info": {
   "codemirror_mode": {
    "name": "ipython",
    "version": 3
   },
   "file_extension": ".py",
   "mimetype": "text/x-python",
   "name": "python",
   "nbconvert_exporter": "python",
   "pygments_lexer": "ipython3",
   "version": "3.12.2"
  },
  "toc": {
   "base_numbering": 1,
   "nav_menu": {},
   "number_sections": true,
   "sideBar": true,
   "skip_h1_title": false,
   "title_cell": "Table of Contents",
   "title_sidebar": "Contents",
   "toc_cell": false,
   "toc_position": {},
   "toc_section_display": true,
   "toc_window_display": false
  },
  "vscode": {
   "interpreter": {
    "hash": "31f2aee4e71d21fbe5cf8b01ff0e069b9275f58929596ceb00d14d90e3e16cd6"
   }
  }
 },
 "nbformat": 4,
 "nbformat_minor": 5
}

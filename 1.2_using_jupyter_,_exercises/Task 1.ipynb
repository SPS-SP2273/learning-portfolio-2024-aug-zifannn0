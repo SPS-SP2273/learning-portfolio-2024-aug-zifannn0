{
 "cells": [
  {
   "cell_type": "markdown",
   "id": "2eedac51-a1e8-48f5-b216-7b8d0224ad19",
   "metadata": {},
   "source": [
    "### 1. Quadratic Equations\n",
    "## Introduction\n",
    "![](https://upload.wikimedia.org/wikipedia/commons/thumb/f/f8/Polynomialdeg2.svg/1280px-Polynomialdeg2.svg.png)\n",
    "\n",
    "*(Image from the [Wikipedia page on Quadratic equations)](https://en.wikipedia.org/wiki/Quadratic_equation)*\n",
    "\n",
    "The general form of a quadratic equation is:\n",
    "$$\n",
    "ax^2+bx+c=0 \n",
    "$$\n",
    "\n",
    "## Solutions\n",
    "Provided $ a\\ne 0 $, we can use an elementary algebraic method called [completing the square](https://en.wikipedia.org/wiki/Completing_the_square) to show that a quadratic equation has the following solution:\n",
    "$$\n",
    "x = \\dfrac{-b\\pm\\sqrt{b^2-4ac}}{2a}\n",
    "$$\n",
    "\n",
    "## Discriminant\n",
    "The quantity $\\Delta = b^2-4ac$ is called the **discriminant** of the equation and decides the nature of its solutions. The table below shows the various possibilities.\n",
    "\n",
    "| **Discriminant**       | **Roots**                                |   |   |   |\n",
    "|------------------------|------------------------------------------|---|---|---|\n",
    "| $\\Delta=b^2-4ac=0$     | A single solution of $\\dfrac {-b}{(2a)}$ |   |   |   |\n",
    "| $\\Delta=b^2-4ac \\gt 0$ | Two distinct solutions                   |   |   |   |\n",
    "| $\\Delta=b^2-4ac \\lt 0$ | No real solutions; both are complex.     |   |   |   |\n",
    "\n"
   ]
  },
  {
   "cell_type": "code",
   "execution_count": null,
   "id": "49d390e0-98bc-44ff-be85-9dac7ef8bdeb",
   "metadata": {},
   "outputs": [],
   "source": []
  }
 ],
 "metadata": {
  "kernelspec": {
   "display_name": "Python 3 (ipykernel)",
   "language": "python",
   "name": "python3"
  },
  "language_info": {
   "codemirror_mode": {
    "name": "ipython",
    "version": 3
   },
   "file_extension": ".py",
   "mimetype": "text/x-python",
   "name": "python",
   "nbconvert_exporter": "python",
   "pygments_lexer": "ipython3",
   "version": "3.12.2"
  }
 },
 "nbformat": 4,
 "nbformat_minor": 5
}

{
 "cells": [
  {
   "attachments": {},
   "cell_type": "markdown",
   "id": "123456",
   "metadata": {},
   "source": [
    "<div style=\"text-align:left;font-size:2em\"><span style=\"font-weight:bolder;font-size:1.25em\">SP2273 | Learning Portfolio</span><br><br><span style=\"font-weight:bold;color:darkred\">Storing Data (Need) Exercises</span></div>"
   ]
  },
  {
   "cell_type": "markdown",
   "id": "5bfc4209-03dc-4dd8-b0e9-722fdaff21e5",
   "metadata": {},
   "source": [
    "## Exercise 1 ##\n",
    "1. they both store multiple data and the order of data is important\n",
    "2. array can only have one data type while list can have multiple; when doing calculations on the data of list/array, array deal with each individual element while list works on the whole list\n",
    "3. it defines an element with another value\n",
    "   \n",
    "_dictionary holds data(value) paired with a key_"
   ]
  },
  {
   "cell_type": "code",
   "execution_count": 3,
   "id": "462e1f3b-b969-474f-89b7-b7e86ac10200",
   "metadata": {},
   "outputs": [
    {
     "name": "stdout",
     "output_type": "stream",
     "text": [
      "a1\n",
      "c3\n",
      "e5\n",
      "g7\n",
      "i9\n"
     ]
    }
   ],
   "source": [
    "# Exercise 2\n",
    "py_list = [\"a1\", \"b2\", \"c3\", \"d4\", \"e5\", \"f6\", \"g7\", \"h8\", \"i9\", \"j10\"]\n",
    "\n",
    "for index, number in enumerate(py_list):\n",
    "    if int(index)%2 == 0:\n",
    "        print(py_list[index])\n",
    "    else:\n",
    "        continue\n",
    "#print(py_list[0])  \n",
    "#print(py_list[2])\n",
    "#print(py_list[4])\n",
    "#print(py_list[6])\n",
    "#print(py_list[8])"
   ]
  },
  {
   "cell_type": "code",
   "execution_count": 20,
   "id": "86877481-4bc4-4fb9-a328-422296502f04",
   "metadata": {},
   "outputs": [
    {
     "name": "stdout",
     "output_type": "stream",
     "text": [
      "Boron\n",
      "Boron\n"
     ]
    }
   ],
   "source": [
    "#Exercise 3\n",
    "elements = ['Hydrogen',\n",
    "            'Helium', 'Lithium',\n",
    "            'Beryllium', 'Boron', 'Carbon',\n",
    "            'Nitrogen', 'Oxygen',\n",
    "            'Fluorine',\n",
    "            'Neon']\n",
    "\n",
    "print(elements[4])\n",
    "print(elements[-6])"
   ]
  },
  {
   "cell_type": "code",
   "execution_count": 5,
   "id": "72112bf6-a9d1-4493-8921-f670b5aabba0",
   "metadata": {},
   "outputs": [
    {
     "name": "stdout",
     "output_type": "stream",
     "text": [
      "number of 1s = 9\n"
     ]
    }
   ],
   "source": [
    "#Exercise 4\n",
    "import numpy as np\n",
    "numbers=[45, 60, 1, 30, 96, 1, 96, 57, 16, 1,\n",
    "        99, 62, 86, 43, 42, 60, 59, 1, 1, 35,\n",
    "        83, 47, 34, 28, 68, 23, 22, 92, 1, 79,\n",
    "        1, 29, 94, 72, 46, 47, 1, 74, 32, 20,\n",
    "        8, 37, 35, 1, 89, 29, 86, 19, 43, 61] \n",
    "np_array=np.array(numbers)\n",
    "x = np.sum(np_array == 1)\n",
    "print('number of 1s =',x)"
   ]
  },
  {
   "cell_type": "code",
   "execution_count": 6,
   "id": "a3dcc302-b112-4a8f-bd19-7445584afe92",
   "metadata": {},
   "outputs": [
    {
     "name": "stdout",
     "output_type": "stream",
     "text": [
      "mean of x1= 38.5\n",
      "mean of x2= 302.5\n",
      "standard deviation of x1= 32.41990129534635\n",
      "standard deviation of x2= 326.0893282522444\n",
      "r= 9.871796626270703\n",
      "r_corrcoef= [[1.         0.98717966]\n",
      " [0.98717966 1.        ]]\n"
     ]
    }
   ],
   "source": [
    "#Exercise 5\n",
    "x_1 = [1, 4, 9, 16, 25, 36, 49, 64, 81, 100]\n",
    "x_2 = [1, 8, 27, 64, 125, 216, 343, 512, 729, 1000]\n",
    "\n",
    "np_array1=np.array(x_1)\n",
    "np_array2=np.array(x_2)\n",
    "\n",
    "mean_x1=np_array1.mean()\n",
    "mean_x2=np_array2.mean()\n",
    "\n",
    "print('mean of x1=', mean_x1)\n",
    "print('mean of x2=', mean_x2)\n",
    "\n",
    "std_x1=np_array1.std()\n",
    "std_x2=np_array2.std()\n",
    "\n",
    "print('standard deviation of x1=', std_x1)\n",
    "print('standard deviation of x2=', std_x2)\n",
    "\n",
    "#r = covariance(X,Y) / (std(X) * std(Y))\n",
    "covariance = np.sum((x_1 - mean_x1) * (x_2 - mean_x2))\n",
    "r = covariance/(std_x1 * std_x2)\n",
    "print('r=',r)\n",
    "\n",
    "r_corrcoef=np.corrcoef(x_1,x_2)\n",
    "print('r_corrcoef=', r_corrcoef)     #why is the result shown in this way?"
   ]
  },
  {
   "cell_type": "code",
   "execution_count": null,
   "id": "31a633ef-4b15-43b3-9c32-610578ed3e9b",
   "metadata": {},
   "outputs": [],
   "source": []
  }
 ],
 "metadata": {
  "kernelspec": {
   "display_name": "Python 3 (ipykernel)",
   "language": "python",
   "name": "python3"
  },
  "language_info": {
   "codemirror_mode": {
    "name": "ipython",
    "version": 3
   },
   "file_extension": ".py",
   "mimetype": "text/x-python",
   "name": "python",
   "nbconvert_exporter": "python",
   "pygments_lexer": "ipython3",
   "version": "3.12.2"
  },
  "toc": {
   "base_numbering": 1,
   "nav_menu": {},
   "number_sections": true,
   "sideBar": true,
   "skip_h1_title": false,
   "title_cell": "Table of Contents",
   "title_sidebar": "Contents",
   "toc_cell": false,
   "toc_position": {},
   "toc_section_display": true,
   "toc_window_display": false
  },
  "vscode": {
   "interpreter": {
    "hash": "31f2aee4e71d21fbe5cf8b01ff0e069b9275f58929596ceb00d14d90e3e16cd6"
   }
  }
 },
 "nbformat": 4,
 "nbformat_minor": 5
}

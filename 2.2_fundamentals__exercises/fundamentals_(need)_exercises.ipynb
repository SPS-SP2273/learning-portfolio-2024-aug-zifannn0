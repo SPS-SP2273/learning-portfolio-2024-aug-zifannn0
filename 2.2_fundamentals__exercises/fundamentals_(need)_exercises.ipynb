{
 "cells": [
  {
   "attachments": {},
   "cell_type": "markdown",
   "id": "123456",
   "metadata": {},
   "source": [
    "<div style=\"text-align:left;font-size:2em\"><span style=\"font-weight:bolder;font-size:1.25em\">SP2273 | Learning Portfolio</span><br><br><span style=\"font-weight:bold;color:darkred\">Fundamentals (Need) Exercises</span></div>"
   ]
  },
  {
   "cell_type": "markdown",
   "id": "127990b5-3601-4105-984b-6083b966a40a",
   "metadata": {},
   "source": [
    "**Exercise 1**\n",
    "\n",
    "1. print ('a')\n",
    "2. = vs. ==\n",
    "3. import math          \n",
    "4. .split()\n",
    "5. sqrt\n",
    "6. *exit()*  --> i saw it at the corner of the notes but i dont rlly know what it is so i went to chatgpt HAHAHA\n",
    "exit() function is used to terminate a running Python program. It's commonly used in scripts where you want to exit the program when a certain condition is met.\n",
    "8. *#comment*\n",
    "9. *if:*\n",
    "   *else:*\n",
    "10. ()[]{}\n",
    "\n",
    "\n"
   ]
  },
  {
   "cell_type": "code",
   "execution_count": 3,
   "id": "259a9f9e-75a0-489f-9fb6-43ecc5ec7e3c",
   "metadata": {},
   "outputs": [
    {
     "name": "stdout",
     "output_type": "stream",
     "text": [
      "<class 'numpy.float64'>\n",
      "3 4 5\n"
     ]
    }
   ],
   "source": [
    "#Exercise 2\n",
    "\n",
    "import numpy as np\n",
    "x = 3\n",
    "y = 4\n",
    "z = np.sqrt(x**2 + y**2)\n",
    "\n",
    "print(x, y, int(z))"
   ]
  },
  {
   "cell_type": "markdown",
   "id": "55f2592f-1f49-42d6-8706-1c5fdf29c7f3",
   "metadata": {},
   "source": [
    "**Exercise 3**\n",
    "\n",
    "| #  | Term         | Description                                                                     |\n",
    "|----|--------------|---------------------------------------------------------------------------------|\n",
    "| 1  | Function     | python executes certain tasks                                                   |\n",
    "| 2  | Arguments    | they are values that are accepted to functions (e.g. list_A=[1,2,3])                              |\n",
    "| 3  | Comments     | anything between # and the end of line which would not be interpreted by Python |\n",
    "| 4  | Indentations | spaces used at the beginning of the code to indicate the start of a block of the code                                     |\n",
    "| 5  | Packages     | a collection of python files                                                    |\n",
    "| 6  | .            | is used to indicate ownership of the funtions                                   |\n",
    "| 7  | :            | is used to designate a block of code                                            |\n",
    "| 8  | [ ]          | is for a list of data                                                           |\n",
    "| 9  | [ [],[] ]    | to include 2D list                                                              |\n",
    "| 10 | {}           | store data in a dictionary                                                      |"
   ]
  },
  {
   "cell_type": "code",
   "execution_count": 26,
   "id": "81b92747-f9b2-4949-b3bb-09cef02938d8",
   "metadata": {},
   "outputs": [
    {
     "data": {
      "text/plain": [
       "1"
      ]
     },
     "execution_count": 26,
     "metadata": {},
     "output_type": "execute_result"
    }
   ],
   "source": [
    "#Exercise 4\n",
    "5/2    #5 is divided by 2\n",
    "5//2     #show only the quoient of 5/2 without the remainder\n",
    "5%2    #show the remainder of 5/2"
   ]
  }
 ],
 "metadata": {
  "kernelspec": {
   "display_name": "Python 3 (ipykernel)",
   "language": "python",
   "name": "python3"
  },
  "language_info": {
   "codemirror_mode": {
    "name": "ipython",
    "version": 3
   },
   "file_extension": ".py",
   "mimetype": "text/x-python",
   "name": "python",
   "nbconvert_exporter": "python",
   "pygments_lexer": "ipython3",
   "version": "3.12.2"
  },
  "toc": {
   "base_numbering": 1,
   "nav_menu": {},
   "number_sections": true,
   "sideBar": true,
   "skip_h1_title": false,
   "title_cell": "Table of Contents",
   "title_sidebar": "Contents",
   "toc_cell": false,
   "toc_position": {},
   "toc_section_display": true,
   "toc_window_display": false
  },
  "vscode": {
   "interpreter": {
    "hash": "31f2aee4e71d21fbe5cf8b01ff0e069b9275f58929596ceb00d14d90e3e16cd6"
   }
  }
 },
 "nbformat": 4,
 "nbformat_minor": 5
}

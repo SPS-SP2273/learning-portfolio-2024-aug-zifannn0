{
 "cells": [
  {
   "attachments": {},
   "cell_type": "markdown",
   "id": "123456",
   "metadata": {},
   "source": [
    "<div style=\"text-align:left;font-size:2em\"><span style=\"font-weight:bolder;font-size:1.25em\">SP2273 | Learning Portfolio</span><br><br><span style=\"font-weight:bold;color:darkred\">Fundamentals (Good) Exercises</span></div>"
   ]
  },
  {
   "cell_type": "code",
   "execution_count": 16,
   "id": "dff98b6d-b796-4e01-ae2d-8c515ff349aa",
   "metadata": {},
   "outputs": [
    {
     "name": "stdin",
     "output_type": "stream",
     "text": [
      "Please provide me with a number? 18\n"
     ]
    },
    {
     "name": "stdout",
     "output_type": "stream",
     "text": [
      "You entered 18\n"
     ]
    }
   ],
   "source": [
    "user_input = input('Please provide me with a number?')\n",
    "print('You entered', user_input)"
   ]
  },
  {
   "cell_type": "code",
   "execution_count": 20,
   "id": "355e3ecb-9592-43f2-a934-8666f124a36c",
   "metadata": {},
   "outputs": [
    {
     "name": "stdin",
     "output_type": "stream",
     "text": [
      "Please give me your name zifan:)\n"
     ]
    },
    {
     "name": "stdout",
     "output_type": "stream",
     "text": [
      "How you doin zifan:) !\n"
     ]
    }
   ],
   "source": [
    "#Exercise 1\n",
    "#Task 1\n",
    "user_input=input('Please give me your name')\n",
    "print('How you doin', user_input,'!')"
   ]
  },
  {
   "cell_type": "code",
   "execution_count": 24,
   "id": "d83a8fbf-b8a7-4324-99e2-21f3bab885ca",
   "metadata": {},
   "outputs": [
    {
     "name": "stdin",
     "output_type": "stream",
     "text": [
      "Please give me your name zifan\n",
      "Please give me your age 34\n"
     ]
    },
    {
     "name": "stdout",
     "output_type": "stream",
     "text": [
      "My name is 34 and I am 34 years old\n"
     ]
    }
   ],
   "source": [
    "#Task 2\n",
    "user_input=input('Please give me your name')\n",
    "user_input=input('Please give me your age')\n",
    "print('My name is', user_input,'and I am', user_input,'years old.')"
   ]
  },
  {
   "cell_type": "code",
   "execution_count": 31,
   "id": "54363ab6-741a-4781-b624-97f0a01a01d6",
   "metadata": {},
   "outputs": [
    {
     "name": "stdout",
     "output_type": "stream",
     "text": [
      "The value of pi to 2 decimal places is: 3.14\n",
      "The value of pi to 3 decimal places is: 3.142\n",
      "The value of pi to 4 decimal places is: 3.1416\n",
      "3.141592653589793 <class 'float'>\n"
     ]
    }
   ],
   "source": [
    "#Task 3\n",
    "import numpy as np\n",
    "\n",
    "np.pi = 3.141592653589793     \n",
    "print(f'The value of pi to 2 decimal places is: {np.pi:.2f}')\n",
    "print(f'The value of pi to 3 decimal places is: {np.pi:.3f}')\n",
    "print(f'The value of pi to 4 decimal places is: {np.pi:.4f}')"
   ]
  },
  {
   "cell_type": "code",
   "execution_count": 43,
   "id": "074bcacb-e38c-4c64-a399-89d3a72645a0",
   "metadata": {},
   "outputs": [
    {
     "name": "stdout",
     "output_type": "stream",
     "text": [
      "Apple      $ 0.99\n",
      "Banana     $ 0.59\n",
      "Orange     $ 1.29\n"
     ]
    }
   ],
   "source": [
    "#Task 4\n",
    "A = 0.99\n",
    "B =  0.59\n",
    "O = 1.29\n",
    "Text1 = 'Apple'\n",
    "Text2 = 'Banana'\n",
    "Text3 = 'Orange'\n",
    "print(f'{Text1:10} $ {A}')\n",
    "print(f'{Text2:10} $ {B}')\n",
    "print(f'{Text3:10} $ {O}')"
   ]
  },
  {
   "cell_type": "code",
   "execution_count": 56,
   "id": "e611ea6b-f606-4db2-8f95-97628b9c6133",
   "metadata": {},
   "outputs": [
    {
     "name": "stdin",
     "output_type": "stream",
     "text": [
      "Please give me your score 788\n"
     ]
    },
    {
     "name": "stdout",
     "output_type": "stream",
     "text": [
      "Hi the score you entered is incorrect. Please try again.\n"
     ]
    }
   ],
   "source": [
    "#Exercise 2\n",
    "user_input=input('Please give me your score')\n",
    "x= int(user_input)\n",
    "if 69 < x < 101:\n",
    "    grade = 'A'\n",
    "    print(f\"The student's grade is: {grade}\")\n",
    "elif 49 < x < 70:\n",
    "    grade = 'B'\n",
    "    print(f\"The student's grade is: {grade}\")\n",
    "elif 34 < x < 50:\n",
    "    grade = 'C'\n",
    "    print(f\"The student's grade is: {grade}\")\n",
    "elif 0 < x < 35:\n",
    "    grade = 'fail'\n",
    "    print(f\"The student's grade is: {grade}\")\n",
    "else:\n",
    "    print('Hi the score you entered is incorrect. Please try again.')\n",
    "\n",
    "#Is there any method to simplify the code?\n",
    "    "
   ]
  },
  {
   "cell_type": "code",
   "execution_count": 61,
   "id": "c7a87ce1-dd66-4967-8eb0-aa48064bca7c",
   "metadata": {},
   "outputs": [
    {
     "name": "stdout",
     "output_type": "stream",
     "text": [
      "120\n",
      "Invalid input\n"
     ]
    }
   ],
   "source": [
    "#Exercise 3\n",
    "\n",
    "def factorial(n):\n",
    "    if n > 0:\n",
    "        result = 1\n",
    "        for number in range(1, n+1):\n",
    "            result *= number\n",
    "        return result\n",
    "    elif n == 0:\n",
    "        return 1\n",
    "    else:\n",
    "        return \"Invalid input\"\n",
    "\n",
    "\n",
    "\n",
    "print(factorial(5))   # Testing, expected output: 120\n",
    "print(factorial(-1))  # Testing, expected output: Invalid input"
   ]
  }
 ],
 "metadata": {
  "kernelspec": {
   "display_name": "Python 3 (ipykernel)",
   "language": "python",
   "name": "python3"
  },
  "language_info": {
   "codemirror_mode": {
    "name": "ipython",
    "version": 3
   },
   "file_extension": ".py",
   "mimetype": "text/x-python",
   "name": "python",
   "nbconvert_exporter": "python",
   "pygments_lexer": "ipython3",
   "version": "3.12.2"
  },
  "toc": {
   "base_numbering": 1,
   "nav_menu": {},
   "number_sections": true,
   "sideBar": true,
   "skip_h1_title": false,
   "title_cell": "Table of Contents",
   "title_sidebar": "Contents",
   "toc_cell": false,
   "toc_position": {},
   "toc_section_display": true,
   "toc_window_display": false
  },
  "vscode": {
   "interpreter": {
    "hash": "31f2aee4e71d21fbe5cf8b01ff0e069b9275f58929596ceb00d14d90e3e16cd6"
   }
  }
 },
 "nbformat": 4,
 "nbformat_minor": 5
}
